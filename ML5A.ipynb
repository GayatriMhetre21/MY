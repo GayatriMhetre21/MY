{
 "cells": [
  {
   "cell_type": "code",
   "execution_count": 23,
   "id": "a156f2fd-0404-44b2-b6ad-5daff73a245e",
   "metadata": {},
   "outputs": [],
   "source": [
    "import pandas as pd\n",
    "from sklearn.model_selection import train_test_split\n",
    "from sklearn.ensemble import RandomForestClassifier\n",
    "from sklearn.metrics import classification_report, confusion_matrix, accuracy_score"
   ]
  },
  {
   "cell_type": "code",
   "execution_count": 24,
   "id": "1dc7c5bf-6d3e-422b-97c1-07c299683cfc",
   "metadata": {},
   "outputs": [
    {
     "name": "stdout",
     "output_type": "stream",
     "text": [
      "Dataset preview:\n",
      "   vhigh vhigh.1  2 2.1  small   low  unacc\n",
      "0  vhigh   vhigh  2   2  small   med  unacc\n",
      "1  vhigh   vhigh  2   2  small  high  unacc\n",
      "2  vhigh   vhigh  2   2    med   low  unacc\n",
      "3  vhigh   vhigh  2   2    med   med  unacc\n",
      "4  vhigh   vhigh  2   2    med  high  unacc\n"
     ]
    }
   ],
   "source": [
    "# Load the dataset\n",
    "dataset_path = 'car_evaluation.csv'  # Replace with the correct file path\n",
    "data = pd.read_csv(dataset_path)\n",
    "\n",
    "# Check the first few rows of the dataset\n",
    "print(\"Dataset preview:\")\n",
    "print(data.head())  # Show first few rows to verify the dataset"
   ]
  },
  {
   "cell_type": "code",
   "execution_count": 25,
   "id": "87368f4f-5239-473c-a2f8-0e1de245f464",
   "metadata": {},
   "outputs": [
    {
     "name": "stdout",
     "output_type": "stream",
     "text": [
      "Column names: Index(['vhigh', 'vhigh.1', '2', '2.1', 'small', 'low', 'unacc'], dtype='object')\n"
     ]
    }
   ],
   "source": [
    "# Print all the column names\n",
    "print(\"Column names:\", data.columns)  # Show exact column names\n",
    "\n",
    "# Strip any leading/trailing spaces from the column names\n",
    "data.columns = data.columns.str.strip()\n",
    "\n",
    "# Ensure target column exists\n",
    "target_column = 'class'  # Change this based on the actual column name\n"
   ]
  },
  {
   "cell_type": "code",
   "execution_count": 26,
   "id": "806b6d2b-1889-488e-9190-8002388f972b",
   "metadata": {},
   "outputs": [
    {
     "name": "stdout",
     "output_type": "stream",
     "text": [
      "Error: The target column 'class' does not exist in the dataset!\n",
      "Please update the target column name based on the actual column names.\n",
      "Available columns: Index(['vhigh', 'vhigh.1', '2', '2.1', 'small', 'low', 'unacc'], dtype='object')\n"
     ]
    }
   ],
   "source": [
    "if target_column not in data.columns:\n",
    "    print(f\"Error: The target column '{target_column}' does not exist in the dataset!\")\n",
    "    print(f\"Please update the target column name based on the actual column names.\")\n",
    "    print(\"Available columns:\", data.columns)\n",
    "else:\n",
    "    # Preprocess the data (mapping categorical values to numeric ones)\n",
    "    if 'buying' in data.columns:\n",
    "        data['buying'] = data['buying'].map({'vhigh': 4, 'high': 3, 'med': 2, 'low': 1})\n",
    "    if 'maint' in data.columns:\n",
    "        data['maint'] = data['maint'].map({'vhigh': 4, 'high': 3, 'med': 2, 'low': 1})\n",
    "    if 'doors' in data.columns:\n",
    "        data['doors'] = data['doors'].replace({'2': 2, '3': 3, '4': 4, '5more': 5})\n",
    "    if 'persons' in data.columns:\n",
    "        data['persons'] = data['persons'].replace({'2': 2, '4': 4, 'more': 5})\n",
    "    if 'lug_boot' in data.columns:\n",
    "        data['lug_boot'] = data['lug_boot'].map({'small': 1, 'med': 2, 'big': 3})\n",
    "    if 'safety' in data.columns:\n",
    "        data['safety'] = data['safety'].map({'low': 1, 'med': 2, 'high': 3})\n",
    "        # Define features (X) and target (y)\n",
    "    X = data.drop(columns=[target_column])  # Features\n",
    "    y = data[target_column]  # Target variable\n",
    "\n",
    "    # Split the dataset into training and testing sets\n",
    "    X_train, X_test, y_train, y_test = train_test_split(X, y, test_size=0.2, random_state=42)\n",
    "\n",
    "    # Create and train the Random Forest Classifier\n",
    "    rf_model = RandomForestClassifier(n_estimators=100, random_state=42)\n",
    "    rf_model.fit(X_train, y_train)\n",
    "\n",
    "    # Make predictions on the test set\n",
    "    y_pred = rf_model.predict(X_test)\n",
    "\n",
    "    # Evaluate the model's performance\n",
    "    print(\"\\nConfusion Matrix:\\n\", confusion_matrix(y_test, y_pred))\n",
    "    print(\"\\nClassification Report:\\n\", classification_report(y_test, y_pred))\n",
    "    print(f'Accuracy: {accuracy_score(y_test, y_pred) * 100:.2f}%')"
   ]
  }
 ],
 "metadata": {
  "kernelspec": {
   "display_name": "Python 3 (ipykernel)",
   "language": "python",
   "name": "python3"
  },
  "language_info": {
   "codemirror_mode": {
    "name": "ipython",
    "version": 3
   },
   "file_extension": ".py",
   "mimetype": "text/x-python",
   "name": "python",
   "nbconvert_exporter": "python",
   "pygments_lexer": "ipython3",
   "version": "3.12.6"
  }
 },
 "nbformat": 4,
 "nbformat_minor": 5
}
